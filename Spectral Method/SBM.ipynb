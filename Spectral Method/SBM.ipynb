{
 "cells": [
  {
   "cell_type": "markdown",
   "metadata": {
    "id": "9AAQGTpthJHJ"
   },
   "source": [
    "# Stochastic Block Model \n",
    "We will explore the relation between mis-clustering rate\n",
    "between the probability gap $\\epsilon$."
   ]
  },
  {
   "cell_type": "code",
   "execution_count": 2,
   "metadata": {
    "colab": {
     "base_uri": "https://localhost:8080/"
    },
    "id": "FgImGzdNua1T",
    "outputId": "77b16383-61a7-4aff-e0d0-f787893ea0f9"
   },
   "outputs": [
    {
     "data": {
      "text/plain": [
       "array([[0.04073901, 0.91398904, 0.40394606, 0.96744071, 0.11529638],\n",
       "       [0.91398904, 0.69687795, 0.35428992, 0.73550064, 0.2678634 ],\n",
       "       [0.40394606, 0.35428992, 0.77961952, 0.7724379 , 0.06110118],\n",
       "       [0.96744071, 0.73550064, 0.7724379 , 0.84553956, 0.5528254 ],\n",
       "       [0.11529638, 0.2678634 , 0.06110118, 0.5528254 , 0.09993677]])"
      ]
     },
     "execution_count": 2,
     "metadata": {},
     "output_type": "execute_result"
    }
   ],
   "source": [
    "import numpy as np\n",
    "def generate_random_symmetric_matrix(N):\n",
    "  # generate_random_symmetric_matrix from uniform distribution\n",
    "  a = np.random.uniform(0,1,(N,N))\n",
    "  m = np.tril(a) + np.tril(a, -1).T\n",
    "  return m\n",
    "\n",
    "generate_random_symmetric_matrix(5)"
   ]
  },
  {
   "cell_type": "code",
   "execution_count": 4,
   "metadata": {
    "colab": {
     "base_uri": "https://localhost:8080/",
     "height": 283
    },
    "id": "g0SN22qhJPgZ",
    "outputId": "bc769312-a86f-4a3e-dcbb-7ed524fc738c"
   },
   "outputs": [
    {
     "data": {
      "text/plain": [
       "<matplotlib.image.AxesImage at 0x7f33f2b66e50>"
      ]
     },
     "execution_count": 4,
     "metadata": {},
     "output_type": "execute_result"
    },
    {
     "data": {
      "image/png": "[encoded data removed]",
      "text/plain": [
       "<Figure size 432x288 with 1 Axes>"
      ]
     },
     "metadata": {
      "needs_background": "light"
     },
     "output_type": "display_data"
    }
   ],
   "source": [
    "def generate_random_adjacency_matrix(n, p):\n",
    "  # generate_random_adjacency_matrix with probability p if \n",
    "  # (i,j) from the same commnity\n",
    "  B = generate_random_symmetric_matrix(n) # n is assumed to be even\n",
    "  for i in range(n):\n",
    "    for j in range(n):\n",
    "      if i <= n/2 and j <= n/2:\n",
    "        if B[i,j] >= p: B[i,j] = 0\n",
    "        else: B[i,j] = 1\n",
    "      elif i <= n/2 and j > n/2:\n",
    "        if B[i,j] >= (1-p): B[i,j] = 0\n",
    "        else: B[i,j] = 1\n",
    "      elif i >= n/2 and j <= n/2:\n",
    "        if B[i,j] >= (1-p): B[i,j] = 0\n",
    "        else: B[i,j] = 1\n",
    "      else:\n",
    "        if B[i,j] >= p: B[i,j] = 0\n",
    "        else: B[i,j] = 1\n",
    "  return B\n",
    "\n",
    "# Now we draw the adjacency matrix\n",
    "import matplotlib.pyplot as plt\n",
    "# change the sign of B to use black to denote there is an edge. \n",
    "plt.imshow(-generate_random_adjacency_matrix(20, 0.8), origin=\"upper\", cmap=\"gray\")"
   ]
  },
  {
   "cell_type": "code",
   "execution_count": 9,
   "metadata": {
    "colab": {
     "base_uri": "https://localhost:8080/"
    },
    "id": "gywZhex5u1iD",
    "outputId": "f542dc10-b151-46aa-a49b-fe65e053359f"
   },
   "outputs": [
    {
     "data": {
      "text/plain": [
       "0.08"
      ]
     },
     "execution_count": 9,
     "metadata": {},
     "output_type": "execute_result"
    }
   ],
   "source": [
    "from numpy import linalg as LA\n",
    "def SBM_model(num_nodes, eps):\n",
    "  '''\n",
    "  SBM model\n",
    "  input: \n",
    "    num_nodes: the number of nodes or number of people needed to be clustered\n",
    "    eps: epilson or probability gap\n",
    "  output:\n",
    "    miss clustering rate\n",
    "  '''\n",
    "\n",
    "  p = (1+eps)/2\n",
    "  q = (1-eps)/2\n",
    "\n",
    "  # compute surrogate matrix\n",
    "  A = generate_random_adjacency_matrix(num_nodes,p)\n",
    "  M = A - (p+q)/2 * np.ones((num_nodes,num_nodes))\n",
    "  w, v = LA.eig(M) # eigen-decomposition\n",
    "\n",
    "  # find leading eigenvector and predict\n",
    "  max_ind = np.argmax(w)\n",
    "  u = v[:,max_ind] # leading eigenvector\n",
    "  mask = u > 0 # find boolean mask\n",
    "  cluster = 2*mask -1 # make rounding output with +1 -1\n",
    "\n",
    "  # generate truth membership with +1 the first half \n",
    "  # and -1 the second half\n",
    "  truth_membership = np.concatenate((np.ones(int(num_nodes/2)), \n",
    "                                     -1*np.ones(int(num_nodes/2))))\n",
    "  # calculate miss clustering rate\n",
    "  mis_cluster_rate = min(np.sum(truth_membership != cluster), \n",
    "                         np.sum(truth_membership != (-1*cluster)))/num_nodes\n",
    "  return mis_cluster_rate\n",
    "\n",
    "SBM_model(50, 0.2)"
   ]
  },
  {
   "cell_type": "code",
   "execution_count": 14,
   "metadata": {
    "id": "T2-iw4deSAyP"
   },
   "outputs": [],
   "source": [
    "eps_list = np.linspace(0, 0.5, 50)\n",
    "error_rate_avg_record = []\n",
    "for e in eps_list:\n",
    "  error_rate_list = []\n",
    "  for i in range(200):\n",
    "    error_rate_list.append(SBM_model(100, e))\n",
    "  avg = np.average(error_rate_list)\n",
    "  error_rate_avg_record.append(avg)"
   ]
  },
  {
   "cell_type": "code",
   "execution_count": 19,
   "metadata": {
    "colab": {
     "base_uri": "https://localhost:8080/",
     "height": 295
    },
    "id": "nLXDcfMjatfV",
    "outputId": "0cb57303-d80a-4d34-b35c-4d39adb7864d"
   },
   "outputs": [
    {
     "data": {
      "image/png": "[encoded data removed]",
      "text/plain": [
       "<Figure size 432x288 with 1 Axes>"
      ]
     },
     "metadata": {
      "needs_background": "light"
     },
     "output_type": "display_data"
    }
   ],
   "source": [
    "plt.plot(eps_list, error_rate_avg_record)\n",
    "plt.xlabel(\"epsilon\")\n",
    "plt.ylabel(\"Error Rate\")\n",
    "plt.title(\"Mis-clustering Error Rate vs. epsilon\")\n",
    "plt.show()"
   ]
  }
 ],
 "metadata": {
  "colab": {
   "collapsed_sections": [],
   "name": "37797 HW1 Q6",
   "provenance": []
  },
  "kernelspec": {
   "display_name": "Python 3",
   "name": "python3"
  },
  "language_info": {
   "name": "python"
  }
 },
 "nbformat": 4,
 "nbformat_minor": 2
}
