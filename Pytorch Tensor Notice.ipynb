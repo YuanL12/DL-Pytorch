{
 "cells": [
  {
   "cell_type": "code",
   "execution_count": 1,
   "id": "888c4ef5",
   "metadata": {},
   "outputs": [],
   "source": [
    "import numpy as np\n",
    "import torch\n",
    "from IPython import display\n",
    "from d2l import torch as d2l"
   ]
  },
  {
   "cell_type": "markdown",
   "id": "b21cf764",
   "metadata": {},
   "source": [
    "## Initialize Tensor"
   ]
  },
  {
   "cell_type": "code",
   "execution_count": 2,
   "id": "a28dc300",
   "metadata": {},
   "outputs": [
    {
     "data": {
      "text/plain": [
       "tensor([[-0.8097, -0.0086,  0.4703],\n",
       "        [ 0.4996,  1.4457,  0.3959]])"
      ]
     },
     "execution_count": 2,
     "metadata": {},
     "output_type": "execute_result"
    }
   ],
   "source": [
    "a = torch.randn(2, 3, requires_grad=False)\n",
    "a"
   ]
  },
  {
   "cell_type": "code",
   "execution_count": 3,
   "id": "ae003a75",
   "metadata": {},
   "outputs": [
    {
     "data": {
      "text/plain": [
       "tensor([[0., 0., 0.],\n",
       "        [0., 0., 0.]])"
      ]
     },
     "execution_count": 3,
     "metadata": {},
     "output_type": "execute_result"
    }
   ],
   "source": [
    "b = torch.zeros_like(a)\n",
    "b"
   ]
  },
  {
   "cell_type": "code",
   "execution_count": 4,
   "id": "8a866714",
   "metadata": {},
   "outputs": [
    {
     "data": {
      "text/plain": [
       "tensor([[1., 1., 1.],\n",
       "        [1., 1., 1.]])"
      ]
     },
     "execution_count": 4,
     "metadata": {},
     "output_type": "execute_result"
    }
   ],
   "source": [
    "torch.ones_like(a)"
   ]
  },
  {
   "cell_type": "code",
   "execution_count": 5,
   "id": "c90e5fe8",
   "metadata": {},
   "outputs": [
    {
     "data": {
      "text/plain": [
       "tensor([[1, 2],\n",
       "        [3, 4]])"
      ]
     },
     "execution_count": 5,
     "metadata": {},
     "output_type": "execute_result"
    }
   ],
   "source": [
    "c = torch.tensor(np.array([[1,2],[3,4]]))\n",
    "c"
   ]
  },
  {
   "cell_type": "markdown",
   "id": "50389fd5",
   "metadata": {},
   "source": [
    "## Maximum"
   ]
  },
  {
   "cell_type": "code",
   "execution_count": 6,
   "id": "77e51220",
   "metadata": {},
   "outputs": [],
   "source": [
    "def relu(X):\n",
    "    #Return a tensor with the same shape with maximum value on each position\n",
    "    a = torch.zeros_like(X)\n",
    "    return torch.max(X, a) "
   ]
  },
  {
   "cell_type": "code",
   "execution_count": 7,
   "id": "83b7612f",
   "metadata": {},
   "outputs": [
    {
     "data": {
      "text/plain": [
       "(tensor([[-0.8097, -0.0086,  0.4703],\n",
       "         [ 0.4996,  1.4457,  0.3959]]),\n",
       " tensor([[0.0000, 0.0000, 0.4703],\n",
       "         [0.4996, 1.4457, 0.3959]]))"
      ]
     },
     "execution_count": 7,
     "metadata": {},
     "output_type": "execute_result"
    }
   ],
   "source": [
    "a, relu(a)"
   ]
  },
  {
   "cell_type": "markdown",
   "id": "088ac52e",
   "metadata": {},
   "source": [
    "## Sum"
   ]
  },
  {
   "cell_type": "code",
   "execution_count": 8,
   "id": "a962fbf6",
   "metadata": {},
   "outputs": [
    {
     "data": {
      "text/plain": [
       "(tensor([[-0.8097, -0.0086,  0.4703],\n",
       "         [ 0.4996,  1.4457,  0.3959]]),\n",
       " tensor([[-0.3479],\n",
       "         [ 2.3411]]))"
      ]
     },
     "execution_count": 8,
     "metadata": {},
     "output_type": "execute_result"
    }
   ],
   "source": [
    "a, a.sum(1, keepdim= True) # sum on each row and keep dimension"
   ]
  },
  {
   "cell_type": "code",
   "execution_count": 9,
   "id": "e6084ec6",
   "metadata": {},
   "outputs": [
    {
     "data": {
      "text/plain": [
       "tensor([-0.3479,  2.3411])"
      ]
     },
     "execution_count": 9,
     "metadata": {},
     "output_type": "execute_result"
    }
   ],
   "source": [
    "a.sum(1, keepdim= False)"
   ]
  },
  {
   "cell_type": "markdown",
   "id": "168c44d6",
   "metadata": {},
   "source": [
    "## Broadcasting Rule\n",
    "A general introduction is here:\n",
    "https://numpy.org/doc/stable/user/basics.broadcasting.html#general-broadcasting-rules"
   ]
  },
  {
   "cell_type": "code",
   "execution_count": 10,
   "id": "8b6122e3",
   "metadata": {},
   "outputs": [],
   "source": [
    "def softmax(X):\n",
    "    '''\n",
    "    Define the softmax function for a matrix\n",
    "    The division is row-wise.\n",
    "    '''\n",
    "    X_exp = torch.exp(X)\n",
    "    partition = X_exp.sum(1, keepdim=True)\n",
    "    return X_exp / partition  # The broadcasting mechanism is applied here"
   ]
  },
  {
   "cell_type": "code",
   "execution_count": 11,
   "id": "0ed85894",
   "metadata": {},
   "outputs": [
    {
     "data": {
      "text/plain": [
       "(tensor([[1, 2],\n",
       "         [3, 4]]),\n",
       " tensor([[3],\n",
       "         [7]]))"
      ]
     },
     "execution_count": 11,
     "metadata": {},
     "output_type": "execute_result"
    }
   ],
   "source": [
    "c, c.sum(1, keepdim=True)"
   ]
  },
  {
   "cell_type": "markdown",
   "id": "631505f0",
   "metadata": {},
   "source": [
    "(2,2) / (2,1) = (2,2)\n",
    "\n",
    "Since (2,1), (dimensions with size 1), will be stretched or “copied” to match the other, which is (2,2),\n",
    "```\n",
    "c.sum(1, keepdim=True) \n",
    "```\n",
    "becomes\n",
    "```\n",
    "tensor([[3,3], [7,7]])\n",
    "```\n",
    "In other words, Size 2 tensor will expand row-wise."
   ]
  },
  {
   "cell_type": "code",
   "execution_count": 12,
   "id": "9495b0f5",
   "metadata": {},
   "outputs": [
    {
     "data": {
      "text/plain": [
       "tensor([[0.3333, 0.6667],\n",
       "        [0.4286, 0.5714]])"
      ]
     },
     "execution_count": 12,
     "metadata": {},
     "output_type": "execute_result"
    }
   ],
   "source": [
    "c / c.sum(1, keepdim=True) # Division is for each row"
   ]
  },
  {
   "cell_type": "markdown",
   "id": "52b4e7cd",
   "metadata": {},
   "source": [
    "#### If we do not keep dimension after summand"
   ]
  },
  {
   "cell_type": "code",
   "execution_count": 13,
   "id": "3e1c4663",
   "metadata": {},
   "outputs": [
    {
     "data": {
      "text/plain": [
       "tensor([3, 7])"
      ]
     },
     "execution_count": 13,
     "metadata": {},
     "output_type": "execute_result"
    }
   ],
   "source": [
    "c.sum(1, keepdim=False)"
   ]
  },
  {
   "cell_type": "code",
   "execution_count": 14,
   "id": "7778d653",
   "metadata": {
    "scrolled": true
   },
   "outputs": [
    {
     "data": {
      "text/plain": [
       "torch.Size([2])"
      ]
     },
     "execution_count": 14,
     "metadata": {},
     "output_type": "execute_result"
    }
   ],
   "source": [
    "c.sum(1, keepdim=False).shape"
   ]
  },
  {
   "cell_type": "code",
   "execution_count": 15,
   "id": "490cea94",
   "metadata": {},
   "outputs": [
    {
     "data": {
      "text/plain": [
       "tensor([[0.3333, 0.2857],\n",
       "        [1.0000, 0.5714]])"
      ]
     },
     "execution_count": 15,
     "metadata": {},
     "output_type": "execute_result"
    }
   ],
   "source": [
    "c / c.sum(1, keepdim=False) # Division is for each column"
   ]
  },
  {
   "cell_type": "markdown",
   "id": "2ee4fd59",
   "metadata": {},
   "source": [
    "(2,2) / (2,) = (2,2)\n",
    "\n",
    "Since (2,), (dimensions with size 1), will be stretched or “copied” to match the other, which is (2,2),\n",
    "\n",
    "```\n",
    "c.sum(1, keepdim=True) \n",
    "```\n",
    "becomes\n",
    "```\n",
    "tensor([[3., 7.], [3., 7.]])\n",
    "```\n",
    ". In other words, size 1 tensor will expand downward and keep the first element same as before"
   ]
  },
  {
   "cell_type": "markdown",
   "id": "bd342a48",
   "metadata": {},
   "source": [
    "## Multiplication\n",
    "Check shape and data type"
   ]
  },
  {
   "cell_type": "code",
   "execution_count": 16,
   "id": "05c5a49e",
   "metadata": {},
   "outputs": [
    {
     "data": {
      "text/plain": [
       "(torch.Size([2, 3]), torch.Size([2, 3]), torch.Size([2, 2]))"
      ]
     },
     "execution_count": 16,
     "metadata": {},
     "output_type": "execute_result"
    }
   ],
   "source": [
    "a.shape, b.shape, c.shape"
   ]
  },
  {
   "cell_type": "code",
   "execution_count": 17,
   "id": "e81f487a",
   "metadata": {},
   "outputs": [
    {
     "data": {
      "text/plain": [
       "torch.float32"
      ]
     },
     "execution_count": 17,
     "metadata": {},
     "output_type": "execute_result"
    }
   ],
   "source": [
    "a.dtype"
   ]
  },
  {
   "cell_type": "markdown",
   "id": "a4371b89",
   "metadata": {},
   "source": [
    "Convert data type"
   ]
  },
  {
   "cell_type": "code",
   "execution_count": 18,
   "id": "233033c5",
   "metadata": {},
   "outputs": [
    {
     "data": {
      "text/plain": [
       "tensor([[1., 2.],\n",
       "        [3., 4.]])"
      ]
     },
     "execution_count": 18,
     "metadata": {},
     "output_type": "execute_result"
    }
   ],
   "source": [
    "c = c.to(a.dtype)\n",
    "c"
   ]
  },
  {
   "cell_type": "code",
   "execution_count": 19,
   "id": "f3c7c30c",
   "metadata": {
    "scrolled": true
   },
   "outputs": [
    {
     "data": {
      "text/plain": [
       "tensor([[0.6890, 0.3789],\n",
       "        [4.3284, 5.7654],\n",
       "        [1.6579, 2.5241]])"
      ]
     },
     "execution_count": 19,
     "metadata": {},
     "output_type": "execute_result"
    }
   ],
   "source": [
    "a.T @ c "
   ]
  },
  {
   "cell_type": "code",
   "execution_count": 20,
   "id": "ec1609f9",
   "metadata": {},
   "outputs": [
    {
     "data": {
      "text/plain": [
       "torch.Size([2])"
      ]
     },
     "execution_count": 20,
     "metadata": {},
     "output_type": "execute_result"
    }
   ],
   "source": [
    "d = torch.tensor([1,1])\n",
    "d.shape"
   ]
  },
  {
   "cell_type": "code",
   "execution_count": 21,
   "id": "1284f96d",
   "metadata": {},
   "outputs": [
    {
     "data": {
      "text/plain": [
       "tensor([[1.6890, 1.3789],\n",
       "        [5.3284, 6.7654],\n",
       "        [2.6579, 3.5241]])"
      ]
     },
     "execution_count": 21,
     "metadata": {},
     "output_type": "execute_result"
    }
   ],
   "source": [
    "a.T @ c + d # broadcasting rule: expand on each row to the following rows"
   ]
  },
  {
   "cell_type": "code",
   "execution_count": null,
   "id": "07bd2776",
   "metadata": {},
   "outputs": [],
   "source": []
  }
 ],
 "metadata": {
  "kernelspec": {
   "display_name": "Python 3 (ipykernel)",
   "language": "python",
   "name": "python3"
  },
  "language_info": {
   "codemirror_mode": {
    "name": "ipython",
    "version": 3
   },
   "file_extension": ".py",
   "mimetype": "text/x-python",
   "name": "python",
   "nbconvert_exporter": "python",
   "pygments_lexer": "ipython3",
   "version": "3.8.10"
  }
 },
 "nbformat": 4,
 "nbformat_minor": 5
}
