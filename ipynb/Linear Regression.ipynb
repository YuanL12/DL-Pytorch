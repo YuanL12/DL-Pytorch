{
 "cells": [
  {
   "cell_type": "markdown",
   "id": "c0531e17",
   "metadata": {},
   "source": [
    "# Linear Regression"
   ]
  },
  {
   "cell_type": "markdown",
   "id": "383cdbdd",
   "metadata": {},
   "source": [
    "## Using torch.utils.data.DataLoader as an iterator to only obtain a minibatch-sized data every time\n",
    "syntax:\n",
    "\n",
    "```\n",
    "for X, y in data_iter:\n",
    "    l = loss(net(X), y)\n",
    "```"
   ]
  },
  {
   "cell_type": "code",
   "execution_count": 1,
   "id": "22d23177",
   "metadata": {},
   "outputs": [],
   "source": [
    "import numpy as np\n",
    "import torch\n",
    "from torch.utils import data\n",
    "from d2l import torch as d2l\n",
    "\n",
    "true_w = torch.tensor([2, -3.4])\n",
    "true_b = 4.2\n",
    "features, labels = d2l.synthetic_data(true_w, true_b, 1000)"
   ]
  },
  {
   "cell_type": "code",
   "execution_count": 2,
   "id": "316bfaf6",
   "metadata": {},
   "outputs": [],
   "source": [
    "def load_array(data_arrays, batch_size, is_train=True):  #@save\n",
    "    \"\"\"Construct a PyTorch data iterator.\"\"\"\n",
    "    dataset = data.TensorDataset(*data_arrays)\n",
    "    return data.DataLoader(dataset, batch_size, shuffle=is_train)\n",
    "\n",
    "batch_size = 10\n",
    "data_iter = load_array((features, labels), batch_size)"
   ]
  },
  {
   "cell_type": "code",
   "execution_count": 3,
   "id": "1f7fb557",
   "metadata": {},
   "outputs": [
    {
     "data": {
      "text/plain": [
       "[tensor([[-0.4342, -1.1474],\n",
       "         [-0.3950,  0.3785],\n",
       "         [-1.7943, -1.3343],\n",
       "         [-0.6483,  0.8033],\n",
       "         [-1.7057,  0.6101],\n",
       "         [-0.9690,  1.7667],\n",
       "         [ 0.2994,  1.4722],\n",
       "         [ 0.3365,  0.5258],\n",
       "         [-0.8804,  0.2290],\n",
       "         [-0.0822, -1.8499]]),\n",
       " tensor([[ 7.2385],\n",
       "         [ 2.1138],\n",
       "         [ 5.1445],\n",
       "         [ 0.1674],\n",
       "         [-1.2937],\n",
       "         [-3.7573],\n",
       "         [-0.2033],\n",
       "         [ 3.0909],\n",
       "         [ 1.6420],\n",
       "         [10.3439]])]"
      ]
     },
     "execution_count": 3,
     "metadata": {},
     "output_type": "execute_result"
    }
   ],
   "source": [
    "next(iter(data_iter))"
   ]
  },
  {
   "cell_type": "markdown",
   "id": "7d67f21b",
   "metadata": {},
   "source": [
    "Create Layer"
   ]
  },
  {
   "cell_type": "code",
   "execution_count": 4,
   "id": "4b255487",
   "metadata": {},
   "outputs": [],
   "source": [
    "from torch import nn\n",
    "net = nn.Sequential(nn.Linear(2, 1)) \n",
    "# 2 is the size of features\n",
    "# 1 is the size of output"
   ]
  },
  {
   "cell_type": "markdown",
   "id": "720e8e31",
   "metadata": {},
   "source": [
    "Initialize weight and bias"
   ]
  },
  {
   "cell_type": "code",
   "execution_count": 5,
   "id": "fe7496f2",
   "metadata": {},
   "outputs": [
    {
     "data": {
      "text/plain": [
       "tensor([0.])"
      ]
     },
     "execution_count": 5,
     "metadata": {},
     "output_type": "execute_result"
    }
   ],
   "source": [
    "net[0].weight.data.normal_(0, 0.01)\n",
    "net[0].bias.data.fill_(0)"
   ]
  },
  {
   "cell_type": "markdown",
   "id": "f94819e5",
   "metadata": {},
   "source": [
    "Define Loss function"
   ]
  },
  {
   "cell_type": "code",
   "execution_count": 6,
   "id": "0c683835",
   "metadata": {},
   "outputs": [],
   "source": [
    "loss = nn.MSELoss()"
   ]
  },
  {
   "cell_type": "markdown",
   "id": "ced0f679",
   "metadata": {},
   "source": [
    "Optimizer (optimization method in math)"
   ]
  },
  {
   "cell_type": "code",
   "execution_count": 7,
   "id": "e87daabc",
   "metadata": {},
   "outputs": [],
   "source": [
    "trainer = torch.optim.SGD(net.parameters(), lr=0.03) # learning rate is 0.03"
   ]
  },
  {
   "cell_type": "markdown",
   "id": "683600bd",
   "metadata": {},
   "source": [
    "Now, we are able to train:\n",
    "\n",
    "Generate predictions by calling net(X) and calculate the loss l (the forward propagation).\n",
    "\n",
    "Calculate gradients by running the backpropagation.\n",
    "\n",
    "Update the model parameters by invoking our optimizer."
   ]
  },
  {
   "cell_type": "code",
   "execution_count": 8,
   "id": "30681528",
   "metadata": {},
   "outputs": [
    {
     "name": "stdout",
     "output_type": "stream",
     "text": [
      "epoch 1, loss 0.000275\n",
      "epoch 2, loss 0.000105\n",
      "epoch 3, loss 0.000105\n"
     ]
    }
   ],
   "source": [
    "num_epochs = 3 # a epoch is a iteration over the whole data set\n",
    "for epoch in range(num_epochs):\n",
    "    for X, y in data_iter:\n",
    "        l = loss(net(X), y) # calculate loss on a minibatch \n",
    "        trainer.zero_grad() # zero out gradient because Pytorch will accumulate gradients by default\n",
    "        l.backward() # backpropagation\n",
    "        trainer.step() # update parameters\n",
    "    l = loss(net(features), labels) # calculate current total loss\n",
    "    print(f'epoch {epoch + 1}, loss {l:f}')"
   ]
  },
  {
   "cell_type": "markdown",
   "id": "e9b173ad",
   "metadata": {},
   "source": [
    "Print out error"
   ]
  },
  {
   "cell_type": "code",
   "execution_count": 9,
   "id": "5855a774",
   "metadata": {},
   "outputs": [
    {
     "name": "stdout",
     "output_type": "stream",
     "text": [
      "error in estimating w: tensor([-0.0004,  0.0005])\n",
      "error in estimating b: tensor([-0.0007])\n"
     ]
    }
   ],
   "source": [
    "w = net[0].weight.data\n",
    "print('error in estimating w:', true_w - w.reshape(true_w.shape))\n",
    "b = net[0].bias.data\n",
    "print('error in estimating b:', true_b - b)"
   ]
  },
  {
   "cell_type": "code",
   "execution_count": null,
   "id": "c68474aa",
   "metadata": {},
   "outputs": [],
   "source": []
  }
 ],
 "metadata": {
  "kernelspec": {
   "display_name": "Python 3 (ipykernel)",
   "language": "python",
   "name": "python3"
  },
  "language_info": {
   "codemirror_mode": {
    "name": "ipython",
    "version": 3
   },
   "file_extension": ".py",
   "mimetype": "text/x-python",
   "name": "python",
   "nbconvert_exporter": "python",
   "pygments_lexer": "ipython3",
   "version": "3.8.10"
  }
 },
 "nbformat": 4,
 "nbformat_minor": 5
}
